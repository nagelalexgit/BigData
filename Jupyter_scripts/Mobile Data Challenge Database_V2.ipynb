{
 "cells": [
  {
   "cell_type": "markdown",
   "metadata": {},
   "source": [
    "<h3>Data preparation</h3>\n",
    "<h5> After successful loading of data according to a data warehouse documentation. We we need to test a conection to a local MySQL server.</h5>\n",
    "Note for NON Windows users: all OS paths are MS Windows based, in order to execute the script successful, please modify all paths according your current operating system structure."
   ]
  },
  {
   "cell_type": "code",
   "execution_count": 6,
   "metadata": {},
   "outputs": [
    {
     "name": "stdout",
     "output_type": "stream",
     "text": [
      "Connection test succeed!\n"
     ]
    }
   ],
   "source": [
    "import mysql.connector as conn\n",
    "from mysql.connector import errorcode\n",
    "import csv\n",
    "import pandas as pd\n",
    "\n",
    "try:\n",
    "  myconn = conn.connect(user='alex',password='123456', host='localhost',database='mdcdb')\n",
    "except mysql.connector.Error as err:\n",
    "  if err.errno == errorcode.ER_ACCESS_DENIED_ERROR:\n",
    "    print(\"Something is wrong with your user name or password\")\n",
    "  elif err.errno == errorcode.ER_BAD_DB_ERROR:\n",
    "    print(\"Database does not exist\")\n",
    "  else:\n",
    "    print(err)\n",
    "else:\n",
    "  myconn.close()\n",
    "  print(\"Connection test succeed!\")"
   ]
  },
  {
   "cell_type": "markdown",
   "metadata": {},
   "source": [
    "<h5>Now we will extract some data from a database, convert retrieved data to dataframe data type and save it to a csv file on a local secondary storage devices.</h5>"
   ]
  },
  {
   "cell_type": "code",
   "execution_count": 7,
   "metadata": {},
   "outputs": [
    {
     "name": "stdout",
     "output_type": "stream",
     "text": [
      "All OK!!!!\n"
     ]
    }
   ],
   "source": [
    "import mysql.connector as conn\n",
    "from mysql.connector import errorcode\n",
    "import pandas as pd\n",
    "\n",
    "try:\n",
    "  myconn = conn.connect(user='alex',password='123456', host='localhost',database='mdcdb')\n",
    "except mysql.connector.Error as err:\n",
    "  if err.errno == errorcode.ER_ACCESS_DENIED_ERROR:\n",
    "    print(\"Something is wrong with your user name or password\")\n",
    "  elif err.errno == errorcode.ER_BAD_DB_ERROR:\n",
    "    print(\"Database does not exist\")\n",
    "  else:\n",
    "    print(err)\n",
    "else:\n",
    "  cursor = myconn.cursor()\n",
    "  # execute the SQL query using execute() method.\n",
    "  cursor.execute (\"select * from users\")\n",
    "  # fetch all of the rows from the query\n",
    "  data = cursor.fetchall()\n",
    "  # save to a file\n",
    "  df = pd.DataFrame(data, columns=[\"User_ID\",\"Number\",\"Test_User\"])\n",
    "  df.to_csv('C:\\myuserfile.csv', index=False)\n",
    "  # print the rows\n",
    "  #for row in data :\n",
    "    #print (row)\n",
    "  # close the cursor object\n",
    "  cursor.close ()\n",
    "  myconn.close()\n",
    "  print(\"All OK!!!!\")"
   ]
  },
  {
   "cell_type": "markdown",
   "metadata": {},
   "source": [
    "<h5>Now we will load data from a file saved earlier and remove all NaNs(clean data). Just to test if it is working.</h5>"
   ]
  },
  {
   "cell_type": "code",
   "execution_count": 8,
   "metadata": {},
   "outputs": [
    {
     "name": "stdout",
     "output_type": "stream",
     "text": [
      "All OK!!\n"
     ]
    }
   ],
   "source": [
    "import pandas as pd\n",
    "dataset_filename = 'C:\\myuserfile.csv'\n",
    "\n",
    "all_content = pd.read_csv(dataset_filename)\n",
    "all_content = all_content.fillna(\"\")\n",
    "#print (all_content)\n",
    "print(\"All OK!!\")"
   ]
  },
  {
   "cell_type": "markdown",
   "metadata": {},
   "source": [
    "<h5>Now we will retrieve data from a 'calllog' table and set a limit to 10000 records as the table contains a lot more records and it may take to long to retrieve data. Also we will convert data into DataFrame and set columns names according data warehouse documentation and finaly save it into a file.</h5>"
   ]
  },
  {
   "cell_type": "code",
   "execution_count": 40,
   "metadata": {},
   "outputs": [
    {
     "name": "stdout",
     "output_type": "stream",
     "text": [
      "OK!!\n"
     ]
    }
   ],
   "source": [
    "import mysql.connector as conn\n",
    "from mysql.connector import errorcode\n",
    "import csv\n",
    "import pandas as pd\n",
    "\n",
    "try:\n",
    "  myconn = conn.connect(user='alex',password='123456', host='localhost',database='mdcdb')\n",
    "except mysql.connector.Error as err:\n",
    "  if err.errno == errorcode.ER_ACCESS_DENIED_ERROR:\n",
    "    print(\"Something is wrong with your user name or password\")\n",
    "  elif err.errno == errorcode.ER_BAD_DB_ERROR:\n",
    "    print(\"Database does not exist\")\n",
    "  else:\n",
    "    print(err)\n",
    "else:\n",
    "  cursor = myconn.cursor()\n",
    "  # execute the SQL query using execute() method.\n",
    "  cursor.execute (\"select * from calllog LIMIT 5000\")\n",
    "  # fetch all of the rows from the query\n",
    "  data = cursor.fetchall()\n",
    "  df = pd.DataFrame(data, columns=[\"db_key\",\"Time\",\"Status\",\"Direction\",\"Description\",\"Number\",\"Name\",\"Contact\",\"Flags\",\n",
    "                                                 \"Duration\",\"Link\", \"Subject\", \"LogId\", \"DurationType\"])\n",
    "  #print(df)                                 \n",
    "  df.to_csv('C:\\mycalllogfile.csv', index=False)\n",
    "  # print the rows just to see what's inside \n",
    "  #for row in data :\n",
    "    #print (row)\n",
    "  # close the cursor object\n",
    "  cursor.close ()\n",
    "  myconn.close()\n",
    "  print(\"OK!!\")"
   ]
  },
  {
   "cell_type": "markdown",
   "metadata": {},
   "source": [
    "<h5>Now we will retrieve data from a file saved earlier to calculate percentile and graphically display calls direction.</h5>"
   ]
  },
  {
   "cell_type": "code",
   "execution_count": 41,
   "metadata": {},
   "outputs": [
    {
     "data": {
      "image/png": "[encoded data removed]",
      "text/plain": [
       "<matplotlib.figure.Figure at 0xc37ac18>"
      ]
     },
     "metadata": {},
     "output_type": "display_data"
    },
    {
     "name": "stdout",
     "output_type": "stream",
     "text": [
      "Total Number of calls: 4773\n",
      "Incoming calls: 38.1%\n",
      "Missed calls: 10.1%\n",
      "Outgoing calls: 51.8%\n"
     ]
    }
   ],
   "source": [
    "%matplotlib inline\n",
    "\n",
    "import numpy as np\n",
    "import pandas as pd\n",
    "import matplotlib.pyplot as plt\n",
    "\n",
    "dataset_filename = 'C:\\mycalllogfile.csv'\n",
    "all_content = pd.read_csv(dataset_filename)\n",
    "all_content = all_content.fillna(\"\")\n",
    "direction = all_content['Direction']\n",
    "spec = all_content.groupby('Direction')['Time'].nunique()\n",
    "total = spec[0] + spec[1] + spec[2]\n",
    "incoming = \"%.1f\" %(100/total*spec[0])\n",
    "missed = \"%.1f\" %(100/total*spec[1])\n",
    "outgoing = \"%.1f\" %(100/total*spec[2])\n",
    "plt.title(\"Calls Direction Histogram\")\n",
    "plt.xlabel(\"Call Direction\")\n",
    "plt.ylabel(\"Call Count\")\n",
    "plt.hist(direction, 6,color=\"green\",histtype='bar')\n",
    "plt.show()\n",
    "print(\"Total Number of calls: \" + str(total))\n",
    "print(\"Incoming calls: \" + incoming + \"%\")\n",
    "print(\"Missed calls: \" + missed + \"%\")\n",
    "print(\"Outgoing calls: \" + outgoing + \"%\")"
   ]
  },
  {
   "cell_type": "markdown",
   "metadata": {},
   "source": [
    "<h5>Now we will produce same analysis on the same dataset, but now on the calls 'status' table.</h5>"
   ]
  },
  {
   "cell_type": "code",
   "execution_count": 42,
   "metadata": {},
   "outputs": [
    {
     "data": {
      "image/png": "[encoded data removed]",
      "text/plain": [
       "<matplotlib.figure.Figure at 0x10553ba8>"
      ]
     },
     "metadata": {},
     "output_type": "display_data"
    },
    {
     "name": "stdout",
     "output_type": "stream",
     "text": [
      "Total Number of calls: 4955\n",
      "Unknown Call Status: 58.4%\n",
      "Delivered Call Status: 34.7%\n",
      "Faled Call Status: 0.3%\n",
      "No Delivery Call Status: 0.1%\n",
      "Not Sent Call Status: 0.0%\n",
      "Pending Call Status: 0.8%\n",
      "Scheuled Call Status: 0.0%\n",
      "Sent Call Status: 2.8%\n"
     ]
    }
   ],
   "source": [
    "%matplotlib inline\n",
    "import numpy as np\n",
    "import pandas as pd\n",
    "import matplotlib.pyplot as plt\n",
    "\n",
    "dataset_filename = 'C:\\mycalllogfile.csv'\n",
    "all_content = pd.read_csv(dataset_filename)\n",
    "all_content = all_content.fillna(\"Unknown\")\n",
    "status = all_content['Status']\n",
    "spec = all_content.groupby('Status')['Time'].nunique()\n",
    "total = spec[0] + spec[1] + spec[2] + spec[3] + spec[4] + spec[5] + spec[6] + spec[6] + spec[7]\n",
    "unknown = str(\"%.1f\" %(100/total*spec[7]))+\"%\"\n",
    "delivered = str(\"%.1f\" %(100/total*spec[0]))+\"%\"\n",
    "faled = str(\"%.1f\" %(100/total*spec[1]))+\"%\"\n",
    "nodelivery = str(\"%.1f\" %(100/total*spec[2]))+\"%\"\n",
    "notsent = str(\"%.1f\" %(100/total*spec[3]))+\"%\"\n",
    "pending = str(\"%.1f\" %(100/total*spec[4]))+\"%\"\n",
    "scheuled = str(\"%.1f\" %(100/total*spec[5]))+\"%\"\n",
    "sent = str(\"%.1f\" %(100/total*spec[6]))+\"%\"\n",
    "plt.title(\"Calls Status Histogram\")\n",
    "plt.xlabel(\"Call Status\")\n",
    "plt.ylabel(\"Call Count\")\n",
    "plt.xticks(rotation=35)\n",
    "plt.hist(status, 15,color=\"orange\",histtype='bar')\n",
    "plt.show()\n",
    "print(\"Total Number of calls: \" + str(total))\n",
    "print(\"Unknown Call Status: \" + unknown)\n",
    "print(\"Delivered Call Status: \" + delivered)\n",
    "print(\"Faled Call Status: \" + faled)\n",
    "print(\"No Delivery Call Status: \" + nodelivery)\n",
    "print(\"Not Sent Call Status: \" + notsent)\n",
    "print(\"Pending Call Status: \" + pending)\n",
    "print(\"Scheuled Call Status: \" + scheuled)\n",
    "print(\"Sent Call Status: \" + sent)"
   ]
  },
  {
   "cell_type": "markdown",
   "metadata": {},
   "source": [
    "<h5>Now we will retrieve and save data from 'sms' table.</h5>"
   ]
  },
  {
   "cell_type": "code",
   "execution_count": 13,
   "metadata": {},
   "outputs": [
    {
     "name": "stdout",
     "output_type": "stream",
     "text": [
      "All OK!!!\n"
     ]
    }
   ],
   "source": [
    "import mysql.connector as conn\n",
    "from mysql.connector import errorcode\n",
    "import csv\n",
    "import pandas as pd\n",
    "\n",
    "try:\n",
    "  myconn = conn.connect(user='alex',password='123456', host='localhost',database='mdcdb')\n",
    "except mysql.connector.Error as err:\n",
    "  if err.errno == errorcode.ER_ACCESS_DENIED_ERROR:\n",
    "    print(\"Something is wrong with your user name or password\")\n",
    "  elif err.errno == errorcode.ER_BAD_DB_ERROR:\n",
    "    print(\"Database does not exist\")\n",
    "  else:\n",
    "    print(err)\n",
    "else:\n",
    "  cursor = myconn.cursor()\n",
    "  # execute the SQL query using execute() method.\n",
    "  cursor.execute (\"select * from sms\")\n",
    "  # fetch all of the rows from the query\n",
    "  data = cursor.fetchall()\n",
    "  # convert to a DataFrame\n",
    "  df = pd.DataFrame(data, columns=[\"db_key\",\"Time\",\"Box\",\"Status\",\"Totallength\",\"Letternbr\",\"Address\",\"Rid\"])\n",
    "  # Save to a file\n",
    "  df.to_csv('C:\\mysmsfile.csv', index=False)\n",
    "  # close the cursor object\n",
    "  cursor.close ()\n",
    "  myconn.close()\n",
    "  print(\"All OK!!!\")"
   ]
  },
  {
   "cell_type": "markdown",
   "metadata": {},
   "source": [
    "<h5>Now we will retrieve data from a file saved earlier to calculate percentile and graphically display sms statistics.</h5>"
   ]
  },
  {
   "cell_type": "code",
   "execution_count": 14,
   "metadata": {},
   "outputs": [
    {
     "data": {
      "image/png": "[encoded data removed]",
      "text/plain": [
       "<matplotlib.figure.Figure at 0x105539e8>"
      ]
     },
     "metadata": {},
     "output_type": "display_data"
    },
    {
     "name": "stdout",
     "output_type": "stream",
     "text": [
      "Total Quantity of SMS: 162280\n",
      "Draft SMS Quantity: 4910 - 3.0%\n",
      "Inbox SMS Quantity: 92261 - 56.9%\n",
      "Outbox SMS Quantity: 297 - 0.2%\n",
      "Sent SMS Quantity: 64812 - 39.9%\n"
     ]
    }
   ],
   "source": [
    "%matplotlib inline\n",
    "import pandas as pd\n",
    "import matplotlib.pyplot as plt\n",
    "dataset_filename = 'C:\\mysmsfile.csv'\n",
    "\n",
    "all_content = pd.read_csv(dataset_filename)\n",
    "all_content = all_content.fillna(\"\")\n",
    "status = all_content['Box']\n",
    "spec = all_content.groupby(by='Box')['Time'].nunique()\n",
    "total = spec[0] + spec[1] + spec[2] + spec[3]\n",
    "draft = \"%.1f\" %(100/total*spec[0])\n",
    "inbox = \"%.1f\" %(100/total*spec[1])\n",
    "outbox = \"%.1f\" %(100/total*spec[2])\n",
    "sent = \"%.1f\" %(100/total*spec[3])\n",
    "\n",
    "plt.title(\"SMS Status Histogram\")\n",
    "plt.xlabel(\"SMS Status\")\n",
    "plt.ylabel(\"SMS Quantity\")\n",
    "\n",
    "plt.hist(status, 6,color=[\"orange\"])\n",
    "plt.show()\n",
    "\n",
    "print(\"Total Quantity of SMS: \" + str(total))\n",
    "print(\"Draft SMS Quantity: \" + str(spec[0]) + \" - \" + draft + \"%\")\n",
    "print(\"Inbox SMS Quantity: \" + str(spec[1]) + \" - \" + inbox + \"%\")\n",
    "print(\"Outbox SMS Quantity: \" + str(spec[2]) + \" - \" + outbox + \"%\")\n",
    "print(\"Sent SMS Quantity: \" + str(spec[3]) + \" - \" + sent + \"%\")"
   ]
  },
  {
   "cell_type": "markdown",
   "metadata": {},
   "source": [
    "<h5>Here, retrieve data from a different table (demographics table). The way to access to the table is the same as for user or calllogs table, after that we also convert retrieved data to dataframe data type and save it to a csv file on a local secondary storage devices. The path used is different because it has been used on macOS operating system on a different computer.</h5>"
   ]
  },
  {
   "cell_type": "code",
   "execution_count": 15,
   "metadata": {},
   "outputs": [
    {
     "name": "stdout",
     "output_type": "stream",
     "text": [
      "Success !!!\n"
     ]
    }
   ],
   "source": [
    "import mysql.connector as conn\n",
    "from mysql.connector import errorcode\n",
    "import csv\n",
    "import pandas as pd\n",
    "import os\n",
    "\n",
    "data_folder = os.path.expanduser('C:/')\n",
    "data_filename = os.path.join(data_folder, \"myfile.csv\")\n",
    "\n",
    "try:\n",
    "  myconn = conn.connect(user='arnaud',password='123456', host='localhost',database='mdcdb')\n",
    "except mysql.connector.Error as err:\n",
    "  if err.errno == errorcode.ER_ACCESS_DENIED_ERROR:\n",
    "    print(\"Something is wrong with your user name or password\")\n",
    "  elif err.errno == errorcode.ER_BAD_DB_ERROR:\n",
    "    print(\"Database does not exist\")\n",
    "  else:\n",
    "    print(err)\n",
    "else:\n",
    "  cursor = myconn.cursor()\n",
    "  cursor.execute (\"select * from demographics LIMIT 500\")\n",
    "  data = cursor.fetchall()\n",
    "  tofile = pd.DataFrame(data, columns=[\"ID\", \"Gender\", \"Group\", \"12\", \"12-18\", \"18-30\", \"30-40\", \"40-50\", \"50-65\", \"65\", \"Working\", \"Phone_Bill\"])\n",
    " \n",
    "  tofile.to_csv(data_filename, index=False)\n",
    "  #for row in data :\n",
    "    #print (row)\n",
    "  cursor.close()\n",
    "  myconn.close()\n",
    "  print(\"Success !!!\")"
   ]
  },
  {
   "cell_type": "markdown",
   "metadata": {},
   "source": [
    "<h5>After, we will we will load data from a file saved earlier and replace all NaNs(clean data) by \"0\" value, we also used some options to display the results clearly.</h5>"
   ]
  },
  {
   "cell_type": "code",
   "execution_count": 16,
   "metadata": {},
   "outputs": [
    {
     "name": "stdout",
     "output_type": "stream",
     "text": [
      "     ID  Gender  Group  12  12-18  18-30  30-40  40-50  50-65  65  Working  Phone_Bill\n",
      "0  5924     1.0      4   0      0    0.0    2.0      0    0.0   0      1.0         1.0\n",
      "1  5925     1.0      4   0      0    0.0    0.0      0    0.0   0      4.0         1.0\n",
      "2  5927     2.0      3   0      0    3.0    0.0      0    0.0   0      4.0         1.0\n",
      "3  5928     1.0      3   0      0    2.0    0.0      0    2.0   0      4.0         1.0\n",
      "4  5936     2.0      6   0      1    0.0    0.0      1    0.0   0      1.0         1.0\n"
     ]
    }
   ],
   "source": [
    "import pandas as pd\n",
    "pd.set_option('display.max_columns', 20)\n",
    "pd.set_option('display.width', 1000)\n",
    "data_folder = os.path.join(os.path.expanduser('C:/'))\n",
    "data_filename = os.path.join(data_folder, \"myfile.csv\")\n",
    "newdata = pd.read_csv(data_filename)\n",
    "newdata = newdata.fillna(0)\n",
    "print (newdata.head())"
   ]
  },
  {
   "cell_type": "markdown",
   "metadata": {},
   "source": [
    "<h5>In the next paragraph, we will retrieve data from a file saved earlier to calculate the sum of numbers displayed in each columns of the demographics table and graphically display the age range.</h5>"
   ]
  },
  {
   "cell_type": "code",
   "execution_count": 17,
   "metadata": {},
   "outputs": [
    {
     "data": {
      "image/png": "[encoded data removed]",
      "text/plain": [
       "<matplotlib.figure.Figure at 0x1034ed68>"
      ]
     },
     "metadata": {},
     "output_type": "display_data"
    }
   ],
   "source": [
    "import matplotlib.pyplot as plt; plt.rcdefaults()\n",
    "import numpy as np\n",
    "import matplotlib.pyplot as plt\n",
    "\n",
    "Total = newdata['12'].sum()\n",
    "Total2 = newdata['12-18'].sum()\n",
    "Total3 = newdata['18-30'].sum()\n",
    "Total4 = newdata['30-40'].sum()\n",
    "Total5 = newdata['40-50'].sum()\n",
    "Total6 = newdata['40-50'].sum()\n",
    "Total7 = newdata['65'].sum()\n",
    " \n",
    "objects = ('12', '12-18', '18-30', '30-40', '40-50', '50-65', '65')\n",
    "y_pos = np.arange(len(objects))\n",
    "performance = [(Total),(Total2),(Total3),(Total4),(Total5),(Total6),(Total7)]\n",
    " \n",
    "plt.bar(y_pos, performance, align='center', alpha=0.5)\n",
    "plt.xticks(y_pos, objects)\n",
    "plt.ylabel('Number of Users')\n",
    "plt.title('Age Range')\n",
    " \n",
    "plt.show()"
   ]
  },
  {
   "cell_type": "markdown",
   "metadata": {},
   "source": [
    "<h5>After that, we will use the same table (but different columns) to get and sort informations about the gender of each users and display it in another kind of graph, an horizontal graph.</h5>"
   ]
  },
  {
   "cell_type": "code",
   "execution_count": 18,
   "metadata": {},
   "outputs": [
    {
     "data": {
      "image/png": "[encoded data removed]",
      "text/plain": [
       "<matplotlib.figure.Figure at 0x1d9a60f0>"
      ]
     },
     "metadata": {},
     "output_type": "display_data"
    }
   ],
   "source": [
    "import matplotlib.pyplot as plt; plt.rcdefaults()\n",
    "import numpy as np\n",
    "import matplotlib.pyplot as plt\n",
    "\n",
    "newdata.groupby('Gender')['ID'].nunique()\n",
    "\n",
    "objects = ('Unknown','Male', 'Female')\n",
    "y_pos = np.arange(len(objects))\n",
    "performance = newdata.groupby('Gender')['ID'].nunique()\n",
    " \n",
    "plt.barh(y_pos, performance, align='center', alpha=0.9)\n",
    "plt.yticks(y_pos, objects)\n",
    "plt.xlabel('Number of Users')\n",
    "plt.title('Gender Range')\n",
    " \n",
    "plt.show()"
   ]
  },
  {
   "cell_type": "markdown",
   "metadata": {},
   "source": [
    "<h5>Here, we are loading sms data with a limit of 2000 records.</h5>"
   ]
  },
  {
   "cell_type": "code",
   "execution_count": 19,
   "metadata": {},
   "outputs": [
    {
     "name": "stdout",
     "output_type": "stream",
     "text": [
      "Data loaded !!\n"
     ]
    }
   ],
   "source": [
    "import mysql.connector as conn\n",
    "from mysql.connector import errorcode\n",
    "import csv\n",
    "import pandas as pd\n",
    "\n",
    "data_filename = 'C:\\mysms.csv'\n",
    "try:\n",
    "  myconn = conn.connect(user='arnaud',password='123456', host='localhost',database='mdcdb')\n",
    "except mysql.connector.Error as err:\n",
    "  if err.errno == errorcode.ER_ACCESS_DENIED_ERROR:\n",
    "    print(\"Something is wrong with your user name or password\")\n",
    "  elif err.errno == errorcode.ER_BAD_DB_ERROR:\n",
    "    print(\"Database does not exist\")\n",
    "  else:\n",
    "    print(err)\n",
    "else:\n",
    "  cursor = myconn.cursor()\n",
    "  cursor.execute (\"select * from sms LIMIT 2000\")\n",
    "  data = cursor.fetchall()\n",
    "  tofile = pd.DataFrame(data, columns=[\"ID\", \"Time\", \"Box\", \"Status\", \"Lenght\", \"Letters\", \"Address\", \"Rid\"])\n",
    "  tofile.to_csv(data_filename, index=False)\n",
    "  #for row in data :\n",
    "    #print (row)\n",
    "  cursor.close()\n",
    "  myconn.close()\n",
    "  print(\"Data loaded !!\")"
   ]
  },
  {
   "cell_type": "markdown",
   "metadata": {},
   "source": [
    "<h5>Here we are loading data from .csv file, sorting the Box column and displaying the count and the structure of the Box column.</h5>"
   ]
  },
  {
   "cell_type": "code",
   "execution_count": 20,
   "metadata": {},
   "outputs": [
    {
     "name": "stdout",
     "output_type": "stream",
     "text": [
      "          ID        Time    Box  Status  Lenght                            Letters                                            Address      Rid\n",
      "0  102864320  1257512946  draft       0       4  {0,0,0,0,1,0,0,0,0,0,0,0,0,0,0,0}                                                  0  1048739\n",
      "1   78700699  1251804081   sent       0      28  {1,0,2,0,0,1,1,0,1,0,0,0,0,0,0,0}  d5b36fe36cc4330a0e16549d3ce0b22ef8381ae10e53ba...  1059506\n",
      "2   78700699  1251803993  inbox       0      37  {1,1,2,1,0,0,1,0,2,0,0,0,0,0,0,0}  d5b36fe36cc4330a0e16549d3ce0b22ef8381ae10e53ba...  1059505\n"
     ]
    },
    {
     "data": {
      "text/plain": [
       "Box\n",
       "draft      38\n",
       "inbox     510\n",
       "outbox      2\n",
       "sent      241\n",
       "Name: ID, dtype: int64"
      ]
     },
     "execution_count": 20,
     "metadata": {},
     "output_type": "execute_result"
    }
   ],
   "source": [
    "import os\n",
    "import pandas as pd\n",
    "pd.set_option('display.max_columns', 20)\n",
    "pd.set_option('display.width', 1000)\n",
    "data_filename = 'C:\\mysms.csv'\n",
    "newdata = pd.read_csv(data_filename)\n",
    "newdata = newdata.fillna(0)\n",
    "print (newdata.head(3))\n",
    "newdata.groupby('Box')['ID'].nunique()"
   ]
  },
  {
   "cell_type": "markdown",
   "metadata": {},
   "source": [
    "<h5>In this section, we are displaying the pie chart of the Box column.</h5>"
   ]
  },
  {
   "cell_type": "code",
   "execution_count": 21,
   "metadata": {},
   "outputs": [
    {
     "data": {
      "image/png": "[encoded data removed]",
      "text/plain": [
       "<matplotlib.figure.Figure at 0x1d9b2358>"
      ]
     },
     "metadata": {},
     "output_type": "display_data"
    }
   ],
   "source": [
    "import pandas as pd\n",
    "from matplotlib.pyplot import pie, axis, show\n",
    "\n",
    "performance = newdata.groupby('Box')['ID'].nunique()\n",
    "\n",
    "df = pd.DataFrame({\n",
    "    'Title': ['Draft','Inbox', 'Outbox', 'Sent'],\n",
    "    'Data': performance})\n",
    "sums = df.Data.groupby(df.Title).sum()\n",
    "axis('equal');\n",
    "pie(sums, labels=sums.index);\n",
    "show()"
   ]
  },
  {
   "cell_type": "markdown",
   "metadata": {},
   "source": [
    "<h5>Loading data from application table with a limit of 500 records.</h5>"
   ]
  },
  {
   "cell_type": "code",
   "execution_count": 22,
   "metadata": {},
   "outputs": [
    {
     "name": "stdout",
     "output_type": "stream",
     "text": [
      "Data loaded!!!!\n"
     ]
    }
   ],
   "source": [
    "import mysql.connector as conn\n",
    "from mysql.connector import errorcode\n",
    "import csv\n",
    "import pandas as pd\n",
    "import os\n",
    "\n",
    "data_filename = 'C:\\myappfile.csv'\n",
    "\n",
    "try:\n",
    "  myconn = conn.connect(user='arnaud',password='123456', host='localhost',database='mdcdb')\n",
    "except mysql.connector.Error as err:\n",
    "  if err.errno == errorcode.ER_ACCESS_DENIED_ERROR:\n",
    "    print(\"Something is wrong with your user name or password\")\n",
    "  elif err.errno == errorcode.ER_BAD_DB_ERROR:\n",
    "    print(\"Database does not exist\")\n",
    "  else:\n",
    "    print(err)\n",
    "else:\n",
    "  cursor = myconn.cursor()\n",
    "  cursor.execute (\"select * from application LIMIT 500\")\n",
    "  data = cursor.fetchall()\n",
    "  tofile = pd.DataFrame(data, columns=[\"ID\", \"Event\", \"UID\", \"Name\", \"View\"])\n",
    "  tofile.to_csv(data_filename, index=False)\n",
    "\n",
    "  cursor.close()\n",
    "  myconn.close()\n",
    "  print(\"Data loaded!!!!\")"
   ]
  },
  {
   "cell_type": "markdown",
   "metadata": {},
   "source": [
    "<h5>Here we are loading data from .csv file, sorting the Event column and displaying the count and the structure of the Event column.</h5>"
   ]
  },
  {
   "cell_type": "code",
   "execution_count": 23,
   "metadata": {},
   "outputs": [
    {
     "name": "stdout",
     "output_type": "stream",
     "text": [
      "         ID                   Event         UID         Name        View\n",
      "0  78665279     Application.Started  [101fd64c]    Telephone  [101fd64c]\n",
      "1  78665280  Application.Foreground  [101fd64c]    Telephone  [101fd64c]\n",
      "2  78665281        Application.View  [101fd64c]    Telephone  [101fd64c]\n",
      "3  78665298     Application.Started  [100056cf]  screensaver  [00000001]\n",
      "4  78665299  Application.Foreground  [100056cf]  screensaver  [00000001]\n"
     ]
    },
    {
     "data": {
      "text/plain": [
       "Event\n",
       "Application.Closed         55\n",
       "Application.Foreground    164\n",
       "Application.Started        64\n",
       "Application.View          217\n",
       "Name: ID, dtype: int64"
      ]
     },
     "execution_count": 23,
     "metadata": {},
     "output_type": "execute_result"
    }
   ],
   "source": [
    "import pandas as pd\n",
    "import mysql.connector as conn\n",
    "from mysql.connector import errorcode\n",
    "import csv\n",
    "import pandas as pd\n",
    "import os\n",
    "\n",
    "pd.set_option('display.max_columns', 20)\n",
    "pd.set_option('display.width', 1000)\n",
    "data_filename = data_filename = 'C:\\myappfile.csv'\n",
    "newdata = pd.read_csv(data_filename)\n",
    "newdata = newdata.fillna(0)\n",
    "print (newdata.head())\n",
    "newdata.groupby('Event')['ID'].nunique()"
   ]
  },
  {
   "cell_type": "markdown",
   "metadata": {},
   "source": [
    "<h5>In this section, we are displaying the pie chart of the Event column.</h5>"
   ]
  },
  {
   "cell_type": "code",
   "execution_count": 24,
   "metadata": {},
   "outputs": [
    {
     "data": {
      "image/png": "[encoded data removed]",
      "text/plain": [
       "<matplotlib.figure.Figure at 0x12e391d0>"
      ]
     },
     "metadata": {},
     "output_type": "display_data"
    }
   ],
   "source": [
    "import pandas as pd\n",
    "from matplotlib.pyplot import pie, axis, show\n",
    "\n",
    "performance = newdata.groupby('Event')['ID'].nunique()\n",
    "\n",
    "df = pd.DataFrame({\n",
    "    'Title': ['Closed','Foreground', 'Started', 'View'],\n",
    "    'Data': performance})\n",
    "sums = df.Data.groupby(df.Title).sum()\n",
    "axis('equal');\n",
    "pie(sums, labels=sums.index);\n",
    "show()"
   ]
  },
  {
   "cell_type": "markdown",
   "metadata": {},
   "source": [
    "<h5>Here, we are loading places data without limit.</h5>"
   ]
  },
  {
   "cell_type": "code",
   "execution_count": 25,
   "metadata": {},
   "outputs": [
    {
     "name": "stdout",
     "output_type": "stream",
     "text": [
      "Data loaded !!\n"
     ]
    }
   ],
   "source": [
    "import mysql.connector as conn\n",
    "from mysql.connector import errorcode\n",
    "import csv\n",
    "import pandas as pd\n",
    "\n",
    "data_filename = 'C:\\myplacesfile.csv'\n",
    "try:\n",
    "  myconn = conn.connect(user='arnaud',password='123456', host='localhost',database='mdcdb')\n",
    "except mysql.connector.Error as err:\n",
    "  if err.errno == errorcode.ER_ACCESS_DENIED_ERROR:\n",
    "    print(\"Something is wrong with your user name or password\")\n",
    "  elif err.errno == errorcode.ER_BAD_DB_ERROR:\n",
    "    print(\"Database does not exist\")\n",
    "  else:\n",
    "    print(err)\n",
    "else:\n",
    "  cursor = myconn.cursor()\n",
    "  cursor.execute (\"select * from places\")\n",
    "  data = cursor.fetchall()\n",
    "  tofile = pd.DataFrame(data, columns=[\"ID\", \"Place ID\", \"Place Label\", \"Family\", \"Close Friends\", \n",
    "                                       \"Friends\", \"Colleagues\", \"Incidental\"])\n",
    "\n",
    "  tofile.to_csv(data_filename, index=False)\n",
    "  cursor.close()\n",
    "  myconn.close()\n",
    "  print(\"Data loaded !!\")"
   ]
  },
  {
   "cell_type": "markdown",
   "metadata": {},
   "source": [
    "<h5>Here we are loading data from .csv file and displaying the structure of the places table.</h5>"
   ]
  },
  {
   "cell_type": "code",
   "execution_count": 26,
   "metadata": {},
   "outputs": [
    {
     "name": "stdout",
     "output_type": "stream",
     "text": [
      "     ID  Place ID  Place Label Family Close Friends Friends Colleagues Incidental\n",
      "0  5477         3            8      f             f       f          f          t\n",
      "1  5477         4            1      t             f       f          f          f\n",
      "2  5477         5            3      f             f       f          t          f\n",
      "3  5477        10            8      f             f       f          f          t\n",
      "4  5477        11            3      f             f       t          t          f\n"
     ]
    }
   ],
   "source": [
    "import pandas as pd\n",
    "import mysql.connector as conn\n",
    "from mysql.connector import errorcode\n",
    "import csv\n",
    "import pandas as pd\n",
    "import os\n",
    "\n",
    "pd.set_option('display.max_columns', 20)\n",
    "pd.set_option('display.width', 1000)\n",
    "data_filename = 'C:\\myplacesfile.csv'\n",
    "newdata = pd.read_csv(data_filename)\n",
    "newdata = newdata.fillna(0)\n",
    "print (newdata.head())"
   ]
  },
  {
   "cell_type": "markdown",
   "metadata": {},
   "source": [
    "<h5>Here we are displaying a pie chart that says if users are visiting places with their families or not.</h5>"
   ]
  },
  {
   "cell_type": "code",
   "execution_count": 27,
   "metadata": {},
   "outputs": [
    {
     "data": {
      "image/png": "[encoded data removed]",
      "text/plain": [
       "<matplotlib.figure.Figure at 0x12cca278>"
      ]
     },
     "metadata": {},
     "output_type": "display_data"
    }
   ],
   "source": [
    "import matplotlib.pyplot as plt; plt.rcdefaults()\n",
    "import numpy as np\n",
    "import matplotlib.pyplot as plt\n",
    "import pandas as pd\n",
    "from matplotlib.pyplot import pie, axis, show\n",
    "\n",
    "Result1 = newdata.groupby('Family')['ID'].nunique()\n",
    "\n",
    "df = pd.DataFrame({\n",
    "    'Title': ['No','Yes'],\n",
    "    'Data': Result1})\n",
    "sums = df.Data.groupby(df.Title).sum()\n",
    "axis('equal');\n",
    "pie(sums, labels=sums.index);\n",
    "show()"
   ]
  },
  {
   "cell_type": "markdown",
   "metadata": {},
   "source": [
    "<h5>Here we are displaying a pie chart that says if users are visiting places with their close friends or not.</h5>"
   ]
  },
  {
   "cell_type": "code",
   "execution_count": 28,
   "metadata": {},
   "outputs": [
    {
     "data": {
      "image/png": "[encoded data removed]",
      "text/plain": [
       "<matplotlib.figure.Figure at 0x1035c240>"
      ]
     },
     "metadata": {},
     "output_type": "display_data"
    }
   ],
   "source": [
    "import matplotlib.pyplot as plt; plt.rcdefaults()\n",
    "import numpy as np\n",
    "import matplotlib.pyplot as plt\n",
    "import pandas as pd\n",
    "from matplotlib.pyplot import pie, axis, show\n",
    "\n",
    "Result2 = newdata.groupby('Close Friends')['ID'].nunique()\n",
    "\n",
    "df = pd.DataFrame({\n",
    "    'Title': ['No','Yes'],\n",
    "    'Data': Result2})\n",
    "sums = df.Data.groupby(df.Title).sum()\n",
    "axis('equal');\n",
    "pie(sums, labels=sums.index);\n",
    "show()"
   ]
  },
  {
   "cell_type": "markdown",
   "metadata": {},
   "source": [
    "<h5>Here we are displaying a pie chart that says if users are visiting places with their friends or not.</h5>"
   ]
  },
  {
   "cell_type": "code",
   "execution_count": 29,
   "metadata": {},
   "outputs": [
    {
     "data": {
      "image/png": "[encoded data removed]",
      "text/plain": [
       "<matplotlib.figure.Figure at 0x12e394a8>"
      ]
     },
     "metadata": {},
     "output_type": "display_data"
    }
   ],
   "source": [
    "import matplotlib.pyplot as plt; plt.rcdefaults()\n",
    "import numpy as np\n",
    "import matplotlib.pyplot as plt\n",
    "import pandas as pd\n",
    "from matplotlib.pyplot import pie, axis, show\n",
    "\n",
    "Result3 = newdata.groupby('Friends')['ID'].nunique()\n",
    "\n",
    "df = pd.DataFrame({\n",
    "    'Title': ['No','Yes'],\n",
    "    'Data': Result3})\n",
    "sums = df.Data.groupby(df.Title).sum()\n",
    "axis('equal');\n",
    "pie(sums, labels=sums.index);\n",
    "show()"
   ]
  },
  {
   "cell_type": "markdown",
   "metadata": {},
   "source": [
    "<h5>Here we are displaying a pie chart that says if users are visiting places with their colleagues or not.</h5>"
   ]
  },
  {
   "cell_type": "code",
   "execution_count": 30,
   "metadata": {},
   "outputs": [
    {
     "data": {
      "image/png": "[encoded data removed]",
      "text/plain": [
       "<matplotlib.figure.Figure at 0x1167a128>"
      ]
     },
     "metadata": {},
     "output_type": "display_data"
    }
   ],
   "source": [
    "import matplotlib.pyplot as plt; plt.rcdefaults()\n",
    "import numpy as np\n",
    "import matplotlib.pyplot as plt\n",
    "import pandas as pd\n",
    "from matplotlib.pyplot import pie, axis, show\n",
    "\n",
    "Result4 = newdata.groupby('Colleagues')['ID'].nunique()\n",
    "\n",
    "df = pd.DataFrame({\n",
    "    'Title': ['No','Yes'],\n",
    "    'Data': Result4})\n",
    "sums = df.Data.groupby(df.Title).sum()\n",
    "axis('equal');\n",
    "pie(sums, labels=sums.index);\n",
    "show()"
   ]
  },
  {
   "cell_type": "markdown",
   "metadata": {},
   "source": [
    "<h5>Here we are displaying a pie chart of users who are visiting places with incidental people.</h5>"
   ]
  },
  {
   "cell_type": "code",
   "execution_count": 39,
   "metadata": {
    "scrolled": true
   },
   "outputs": [
    {
     "data": {
      "image/png": "[encoded data removed]",
      "text/plain": [
       "<matplotlib.figure.Figure at 0x11263470>"
      ]
     },
     "metadata": {},
     "output_type": "display_data"
    }
   ],
   "source": [
    "import matplotlib.pyplot as plt; plt.rcdefaults()\n",
    "import numpy as np\n",
    "import matplotlib.pyplot as plt\n",
    "import pandas as pd\n",
    "from matplotlib.pyplot import pie, axis, show\n",
    "\n",
    "Result5 = newdata.groupby('Incidental')['ID'].nunique()\n",
    "\n",
    "df = pd.DataFrame({\n",
    "    'Title': ['No','Yes'],\n",
    "    'Data': Result5})\n",
    "sums = df.Data.groupby(df.Title).sum()\n",
    "axis('equal');\n",
    "pie(sums, labels=sums.index);\n",
    "plt.show()"
   ]
  },
  {
   "cell_type": "markdown",
   "metadata": {},
   "source": [
    "<h5> Here we analyzing how many phone calls has been made by males and females in different age groups.</h5>"
   ]
  },
  {
   "cell_type": "code",
   "execution_count": 52,
   "metadata": {},
   "outputs": [
    {
     "name": "stdout",
     "output_type": "stream",
     "text": [
      "OK!!\n"
     ]
    },
    {
     "data": {
      "image/png": "[encoded data removed]",
      "text/plain": [
       "<matplotlib.figure.Figure at 0x9b27d30>"
      ]
     },
     "metadata": {},
     "output_type": "display_data"
    }
   ],
   "source": [
    "import mysql.connector as conn\n",
    "from mysql.connector import errorcode\n",
    "import pandas as pd\n",
    "from pandas import DataFrame\n",
    "import numpy as np\n",
    "import matplotlib.pyplot as plt\n",
    "\n",
    "args = [5000000]\n",
    "\n",
    "def getCount(_genderIN,_groupIN,_directionIN):\n",
    "    _gender = res['Gender'] == _genderIN\n",
    "    _group = res['AgeGroup'] == _groupIN\n",
    "    _direction = res['Direction'] == _directionIN\n",
    "    _final = res[_gender & _group & _direction]\n",
    "    total_rows = len(_final.index)\n",
    "    return total_rows\n",
    "\n",
    "try:\n",
    "  myconn = conn.connect(user='root',password='123456', host='localhost',database='mdcdb')\n",
    "except mysql.connector.Error as err:\n",
    "  if err.errno == errorcode.ER_ACCESS_DENIED_ERROR:\n",
    "    print(\"Something is wrong with your user name or password\")\n",
    "  elif err.errno == errorcode.ER_BAD_DB_ERROR:\n",
    "    print(\"Database does not exist\")\n",
    "  else:\n",
    "    print(err)\n",
    "else:\n",
    "  cursor = myconn.cursor()\n",
    "  result_args = cursor.callproc(\"getdemographicsCalllog\", args)\n",
    "  #fetch all of the rows from the query\n",
    "  for result in cursor.stored_results():\n",
    "    res = DataFrame(result.fetchall())\n",
    "  res.columns=[\"Gender\",\"AgeGroup\",\"Time\",\"Direction\",\"Duration\",\"Contact\"]\n",
    "  res['Time'] = pd.to_datetime(res['Time'], unit='s')\n",
    "  #print(res.head())                                 \n",
    "  # close the cursor object\n",
    "  cursor.close ()\n",
    "  myconn.close()\n",
    "  print(\"OK!!\")\n",
    "\n",
    "n_groups = 7\n",
    "\n",
    "_inDerection = 'Outgoing'\n",
    "\n",
    "maleOutG1 = getCount(1,1,_inDerection)\n",
    "fmaleOutG1 = getCount(2,1,_inDerection)\n",
    "maleOutG2 = getCount(1,2,_inDerection)\n",
    "fmaleOutG2 = getCount(2,2,_inDerection)\n",
    "maleOutG3 = getCount(1,3,_inDerection)\n",
    "fmaleOutG3 = getCount(2,3,_inDerection)\n",
    "maleOutG4 = getCount(1,4,_inDerection)\n",
    "fmaleOutG4 = getCount(2,4,_inDerection)\n",
    "maleOutG5 = getCount(1,5,_inDerection)\n",
    "fmaleOutG5 = getCount(2,5,_inDerection)\n",
    "maleOutG6 = getCount(1,6,_inDerection)\n",
    "fmaleOutG6 = getCount(2,6,_inDerection)\n",
    "maleOutG7 = getCount(1,7,_inDerection)\n",
    "fmaleOutG7 = getCount(2,7,_inDerection)\n",
    "\n",
    "means_male = (maleOutG1,maleOutG2,maleOutG3,maleOutG4,maleOutG5,maleOutG6,maleOutG7)\n",
    "means_fmale = (fmaleOutG1,fmaleOutG2,fmaleOutG3,fmaleOutG4,fmaleOutG5,fmaleOutG6,fmaleOutG7)\n",
    "\n",
    "fig,ax = plt.subplots()\n",
    "index = np.arange(n_groups)\n",
    "\n",
    "bar_width = 0.45\n",
    "opacity = 0.9\n",
    "\n",
    "rect1 = plt.bar(index,means_male,bar_width,\n",
    "               alpha=opacity,color = 'b',label='Male')\n",
    "\n",
    "rect1 = plt.bar(index + bar_width,means_fmale,bar_width,\n",
    "               alpha=opacity,color = 'r',label='Female')\n",
    "\n",
    "plt.xlabel('Age Groups')\n",
    "plt.ylabel('Outgoing Calls')\n",
    "plt.title('Calls score by gender and age')\n",
    "plt.xticks(index + bar_width,('12-','12-18','18-30','30-40','40-50','50-65','65+'))\n",
    "plt.legend()\n",
    "\n",
    "plt.tight_layout()\n",
    "plt.show()"
   ]
  },
  {
   "cell_type": "markdown",
   "metadata": {},
   "source": [
    "<h5> Here we analyzing how many phone calls has been received by males and females in different age groups.</h5>"
   ]
  },
  {
   "cell_type": "code",
   "execution_count": 51,
   "metadata": {},
   "outputs": [
    {
     "name": "stdout",
     "output_type": "stream",
     "text": [
      "OK!!\n"
     ]
    },
    {
     "data": {
      "image/png": "[encoded data removed]",
      "text/plain": [
       "<matplotlib.figure.Figure at 0x1b952a90>"
      ]
     },
     "metadata": {},
     "output_type": "display_data"
    }
   ],
   "source": [
    "import mysql.connector as conn\n",
    "from mysql.connector import errorcode\n",
    "import pandas as pd\n",
    "from pandas import DataFrame\n",
    "import numpy as np\n",
    "import matplotlib.pyplot as plt\n",
    "\n",
    "args = [10000000]\n",
    "\n",
    "def getCount(_genderIN,_groupIN,_directionIN):\n",
    "    _gender = res['Gender'] == _genderIN\n",
    "    _group = res['AgeGroup'] == _groupIN\n",
    "    _direction = res['Direction'] == _directionIN\n",
    "    malesGroup1 = res[_gender & _group & _direction]\n",
    "    total_rows = len(malesGroup1.index)\n",
    "    return total_rows\n",
    "\n",
    "try:\n",
    "  myconn = conn.connect(user='root',password='123456', host='localhost',database='mdcdb')\n",
    "except mysql.connector.Error as err:\n",
    "  if err.errno == errorcode.ER_ACCESS_DENIED_ERROR:\n",
    "    print(\"Something is wrong with your user name or password\")\n",
    "  elif err.errno == errorcode.ER_BAD_DB_ERROR:\n",
    "    print(\"Database does not exist\")\n",
    "  else:\n",
    "    print(err)\n",
    "else:\n",
    "  cursor = myconn.cursor()\n",
    "  result_args = cursor.callproc(\"getdemographicsCalllog\", args)\n",
    "  #fetch all of the rows from the query\n",
    "  for result in cursor.stored_results():\n",
    "    res = DataFrame(result.fetchall())\n",
    "  res.columns=[\"Gender\",\"AgeGroup\",\"Time\",\"Direction\",\"Duration\",\"Contact\"]\n",
    "  res['Time'] = pd.to_datetime(res['Time'], unit='s')\n",
    "  #print(res.head())                                 \n",
    "  # close the cursor object\n",
    "  cursor.close ()\n",
    "  myconn.close()\n",
    "  print(\"OK!!\")\n",
    "\n",
    "n_groups = 7\n",
    "\n",
    "_inDerection = 'Incoming'\n",
    "\n",
    "maleOutG1 = getCount(1,1,_inDerection)\n",
    "fmaleOutG1 = getCount(2,1,_inDerection)\n",
    "maleOutG2 = getCount(1,2,_inDerection)\n",
    "fmaleOutG2 = getCount(2,2,_inDerection)\n",
    "maleOutG3 = getCount(1,3,_inDerection)\n",
    "fmaleOutG3 = getCount(2,3,_inDerection)\n",
    "maleOutG4 = getCount(1,4,_inDerection)\n",
    "fmaleOutG4 = getCount(2,4,_inDerection)\n",
    "maleOutG5 = getCount(1,5,_inDerection)\n",
    "fmaleOutG5 = getCount(2,5,_inDerection)\n",
    "maleOutG6 = getCount(1,6,_inDerection)\n",
    "fmaleOutG6 = getCount(2,6,_inDerection)\n",
    "maleOutG7 = getCount(1,7,_inDerection)\n",
    "fmaleOutG7 = getCount(2,7,_inDerection)\n",
    "\n",
    "means_male = (maleOutG1,maleOutG2,maleOutG3,maleOutG4,maleOutG5,maleOutG6,maleOutG7)\n",
    "means_fmale = (fmaleOutG1,fmaleOutG2,fmaleOutG3,fmaleOutG4,fmaleOutG5,fmaleOutG6,fmaleOutG7)\n",
    "\n",
    "fig,ax = plt.subplots()\n",
    "index = np.arange(n_groups)\n",
    "\n",
    "bar_width = 0.35\n",
    "opacity = 0.9\n",
    "\n",
    "rect1 = plt.bar(index,means_male,bar_width,\n",
    "               alpha=opacity,color = 'b',label='Male')\n",
    "\n",
    "rect1 = plt.bar(index + bar_width,means_fmale,bar_width,\n",
    "               alpha=opacity,color = 'r',label='Female')\n",
    "\n",
    "plt.xlabel('Age Groups')\n",
    "plt.ylabel('Incoming Calls')\n",
    "plt.title('Calls score by gender and age')\n",
    "plt.xticks(index + bar_width,('12-','12-18','18-30','30-40','40-50','50-65','65+'))\n",
    "plt.legend()\n",
    "\n",
    "plt.tight_layout()\n",
    "plt.show()"
   ]
  },
  {
   "cell_type": "markdown",
   "metadata": {},
   "source": [
    "<h5> Here we analyzing how many phone messages has been sent by males and females in different age groups.</h5>"
   ]
  },
  {
   "cell_type": "code",
   "execution_count": 53,
   "metadata": {},
   "outputs": [
    {
     "name": "stdout",
     "output_type": "stream",
     "text": [
      "OK!!\n"
     ]
    },
    {
     "data": {
      "image/png": "[encoded data removed]",
      "text/plain": [
       "<matplotlib.figure.Figure at 0x9b279b0>"
      ]
     },
     "metadata": {},
     "output_type": "display_data"
    }
   ],
   "source": [
    "import mysql.connector as conn\n",
    "from mysql.connector import errorcode\n",
    "from pandas import DataFrame\n",
    "\n",
    "args = [1000000]\n",
    "\n",
    "def getCount(_genderIN,_groupIN,_boxIN):\n",
    "    _gender = res['Gender'] == _genderIN\n",
    "    _group = res['AgeGroup'] == _groupIN\n",
    "    _box = res['Box'] == _boxIN\n",
    "    malesGroup1 = res[_gender & _group & _box]\n",
    "    total_rows = len(malesGroup1.index)\n",
    "    return total_rows\n",
    "\n",
    "try:\n",
    "  myconn = conn.connect(user='root',password='123456', host='localhost',database='mdcdb')\n",
    "except mysql.connector.Error as err:\n",
    "  if err.errno == errorcode.ER_ACCESS_DENIED_ERROR:\n",
    "    print(\"Something is wrong with your user name or password\")\n",
    "  elif err.errno == errorcode.ER_BAD_DB_ERROR:\n",
    "    print(\"Database does not exist\")\n",
    "  else:\n",
    "    print(err)\n",
    "else:\n",
    "  cursor = myconn.cursor()\n",
    "  result_args = cursor.callproc(\"getdemographicsSMSlog\", args)\n",
    "  #fetch all of the rows from the query\n",
    "  for result in cursor.stored_results():\n",
    "    res = DataFrame(result.fetchall())\n",
    "  res.columns=[\"Gender\",\"AgeGroup\",\"Box\",\"SmsLength\"]\n",
    "  #print(res.head())                                 \n",
    "  # close the cursor object\n",
    "  cursor.close ()\n",
    "  myconn.close()\n",
    "  print(\"OK!!\")\n",
    "    \n",
    "n_groups = 7\n",
    "\n",
    "_inDerection = 'sent'\n",
    "\n",
    "maleOutG1 = getCount(1,1,_inDerection)\n",
    "fmaleOutG1 = getCount(2,1,_inDerection)\n",
    "maleOutG2 = getCount(1,2,_inDerection)\n",
    "fmaleOutG2 = getCount(2,2,_inDerection)\n",
    "maleOutG3 = getCount(1,3,_inDerection)\n",
    "fmaleOutG3 = getCount(2,3,_inDerection)\n",
    "maleOutG4 = getCount(1,4,_inDerection)\n",
    "fmaleOutG4 = getCount(2,4,_inDerection)\n",
    "maleOutG5 = getCount(1,5,_inDerection)\n",
    "fmaleOutG5 = getCount(2,5,_inDerection)\n",
    "maleOutG6 = getCount(1,6,_inDerection)\n",
    "fmaleOutG6 = getCount(2,6,_inDerection)\n",
    "maleOutG7 = getCount(1,7,_inDerection)\n",
    "fmaleOutG7 = getCount(2,7,_inDerection)\n",
    "\n",
    "means_male = (maleOutG1,maleOutG2,maleOutG3,maleOutG4,maleOutG5,maleOutG6,maleOutG7)\n",
    "means_fmale = (fmaleOutG1,fmaleOutG2,fmaleOutG3,fmaleOutG4,fmaleOutG5,fmaleOutG6,fmaleOutG7)\n",
    "\n",
    "fig,ax = plt.subplots()\n",
    "index = np.arange(n_groups)\n",
    "\n",
    "bar_width = 0.35\n",
    "opacity = 0.9\n",
    "\n",
    "rect1 = plt.bar(index,means_male,bar_width,\n",
    "               alpha=opacity,color = 'b',label='Male')\n",
    "\n",
    "rect1 = plt.bar(index + bar_width,means_fmale,bar_width,\n",
    "               alpha=opacity,color = 'r',label='Female')\n",
    "\n",
    "plt.xlabel('Age Groups')\n",
    "plt.ylabel('SMS Count')\n",
    "plt.title('SMS sent score by gender and age')\n",
    "plt.xticks(index + bar_width,('12-','12-18','18-30','30-40','40-50','50-65','65+'))\n",
    "plt.legend()\n",
    "\n",
    "plt.tight_layout()\n",
    "plt.show()"
   ]
  },
  {
   "cell_type": "markdown",
   "metadata": {},
   "source": [
    "<h5> Here we analyzing how many phone messages has been received by males and females in different age groups.</h5>"
   ]
  },
  {
   "cell_type": "code",
   "execution_count": 54,
   "metadata": {},
   "outputs": [
    {
     "name": "stdout",
     "output_type": "stream",
     "text": [
      "OK!!\n"
     ]
    },
    {
     "data": {
      "image/png": "[encoded data removed]",
      "text/plain": [
       "<matplotlib.figure.Figure at 0xabec630>"
      ]
     },
     "metadata": {},
     "output_type": "display_data"
    }
   ],
   "source": [
    "import mysql.connector as conn\n",
    "from mysql.connector import errorcode\n",
    "from pandas import DataFrame\n",
    "\n",
    "args = [1000000]\n",
    "\n",
    "def getCount(_genderIN,_groupIN,_boxIN):\n",
    "    _gender = res['Gender'] == _genderIN\n",
    "    _group = res['AgeGroup'] == _groupIN\n",
    "    _box = res['Box'] == _boxIN\n",
    "    malesGroup1 = res[_gender & _group & _box]\n",
    "    total_rows = len(malesGroup1.index)\n",
    "    return total_rows\n",
    "\n",
    "try:\n",
    "  myconn = conn.connect(user='root',password='123456', host='localhost',database='mdcdb')\n",
    "except mysql.connector.Error as err:\n",
    "  if err.errno == errorcode.ER_ACCESS_DENIED_ERROR:\n",
    "    print(\"Something is wrong with your user name or password\")\n",
    "  elif err.errno == errorcode.ER_BAD_DB_ERROR:\n",
    "    print(\"Database does not exist\")\n",
    "  else:\n",
    "    print(err)\n",
    "else:\n",
    "  cursor = myconn.cursor()\n",
    "  result_args = cursor.callproc(\"getdemographicsSMSlog\", args)\n",
    "  #fetch all of the rows from the query\n",
    "  for result in cursor.stored_results():\n",
    "    res = DataFrame(result.fetchall())\n",
    "  res.columns=[\"Gender\",\"AgeGroup\",\"Box\",\"SmsLength\"]\n",
    "  # print(res.head())                                 \n",
    "  # close the cursor object\n",
    "  cursor.close ()\n",
    "  myconn.close()\n",
    "  print(\"OK!!\")\n",
    "    \n",
    "n_groups = 7\n",
    "\n",
    "_inDerection = 'inbox'\n",
    "\n",
    "maleOutG1 = getCount(1,1,_inDerection)\n",
    "fmaleOutG1 = getCount(2,1,_inDerection)\n",
    "maleOutG2 = getCount(1,2,_inDerection)\n",
    "fmaleOutG2 = getCount(2,2,_inDerection)\n",
    "maleOutG3 = getCount(1,3,_inDerection)\n",
    "fmaleOutG3 = getCount(2,3,_inDerection)\n",
    "maleOutG4 = getCount(1,4,_inDerection)\n",
    "fmaleOutG4 = getCount(2,4,_inDerection)\n",
    "maleOutG5 = getCount(1,5,_inDerection)\n",
    "fmaleOutG5 = getCount(2,5,_inDerection)\n",
    "maleOutG6 = getCount(1,6,_inDerection)\n",
    "fmaleOutG6 = getCount(2,6,_inDerection)\n",
    "maleOutG7 = getCount(1,7,_inDerection)\n",
    "fmaleOutG7 = getCount(2,7,_inDerection)\n",
    "\n",
    "means_male = (maleOutG1,maleOutG2,maleOutG3,maleOutG4,maleOutG5,maleOutG6,maleOutG7)\n",
    "means_fmale = (fmaleOutG1,fmaleOutG2,fmaleOutG3,fmaleOutG4,fmaleOutG5,fmaleOutG6,fmaleOutG7)\n",
    "\n",
    "fig,ax = plt.subplots()\n",
    "index = np.arange(n_groups)\n",
    "\n",
    "bar_width = 0.35\n",
    "opacity = 0.9\n",
    "\n",
    "rect1 = plt.bar(index,means_male,bar_width,\n",
    "               alpha=opacity,color = 'b',label='Male')\n",
    "\n",
    "rect1 = plt.bar(index + bar_width,means_fmale,bar_width,\n",
    "               alpha=opacity,color = 'r',label='Female')\n",
    "\n",
    "plt.xlabel('Age Groups')\n",
    "plt.ylabel('SMS Count')\n",
    "plt.title('Incoming SMS score by gender and age')\n",
    "plt.xticks(index + bar_width,('12-','12-18','18-30','30-40','40-50','50-65','65+'))\n",
    "plt.legend()\n",
    "\n",
    "plt.tight_layout()\n",
    "plt.show()"
   ]
  }
 ],
 "metadata": {
  "kernelspec": {
   "display_name": "Python 3",
   "language": "python",
   "name": "python3"
  },
  "language_info": {
   "codemirror_mode": {
    "name": "ipython",
    "version": 3
   },
   "file_extension": ".py",
   "mimetype": "text/x-python",
   "name": "python",
   "nbconvert_exporter": "python",
   "pygments_lexer": "ipython3",
   "version": "3.6.4"
  }
 },
 "nbformat": 4,
 "nbformat_minor": 2
}
