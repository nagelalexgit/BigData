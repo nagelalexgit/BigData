{
 "cells": [
  {
   "cell_type": "markdown",
   "metadata": {},
   "source": [
    "<h2> Nearest Neighbors algorithm</h2>\n",
    "<h3> Loading the dataset</h3>"
   ]
  },
  {
   "cell_type": "code",
   "execution_count": 15,
   "metadata": {},
   "outputs": [
    {
     "name": "stdout",
     "output_type": "stream",
     "text": [
      "[ True False  True False  True False  True False  True False  True False\n",
      "  True False  True False  True False  True False  True False  True False\n",
      "  True False  True False  True False  True False  True False  True False\n",
      "  True False  True False  True False  True False  True False  True False\n",
      "  True False  True False  True False  True False  True False  True False\n",
      "  True False  True False  True False  True False  True False  True False\n",
      "  True False  True False  True False  True False  True False  True False\n",
      "  True False  True False  True False  True False  True False  True False\n",
      "  True  True False  True False  True False  True False  True False  True\n",
      " False  True False  True False  True False  True False  True False  True\n",
      " False  True False  True False  True False  True False  True False  True\n",
      " False  True False  True False  True False  True False  True False  True\n",
      " False  True False  True False  True False  True False  True False  True\n",
      " False  True False  True False  True False  True False  True False  True\n",
      " False  True False  True False  True False  True False  True False  True\n",
      " False  True False  True False  True False  True False  True False  True\n",
      " False  True False  True False  True False  True False  True False  True\n",
      " False  True False  True False  True False  True False  True False  True\n",
      " False  True False  True False  True False  True False  True False  True\n",
      " False  True False  True False  True False  True False  True False  True\n",
      " False  True False  True False  True False  True False  True False  True\n",
      " False  True  True  True  True  True  True  True  True  True  True  True\n",
      "  True  True  True  True  True  True  True  True  True  True  True  True\n",
      "  True  True  True  True  True  True  True  True  True  True  True  True\n",
      "  True  True  True  True  True  True  True  True  True  True  True  True\n",
      "  True  True  True  True  True  True  True  True  True  True  True  True\n",
      "  True  True  True  True  True  True  True  True  True  True  True  True\n",
      "  True  True  True  True  True  True  True  True  True  True  True  True\n",
      "  True  True  True  True  True  True  True  True  True  True  True  True\n",
      "  True  True  True]\n",
      "[[ 1.       0.       0.99539 ..., -0.54487  0.18641 -0.453  ]\n",
      " [ 1.       0.       1.      ..., -0.06288 -0.13738 -0.02447]\n",
      " [ 1.       0.       1.      ..., -0.2418   0.56045 -0.38238]\n",
      " ..., \n",
      " [ 1.       0.       0.94701 ...,  0.00442  0.92697 -0.00577]\n",
      " [ 1.       0.       0.90608 ..., -0.03757  0.87403 -0.16243]\n",
      " [ 1.       0.       0.8471  ..., -0.06678  0.85764 -0.06151]]\n"
     ]
    }
   ],
   "source": [
    "import numpy as np\n",
    "import csv\n",
    "import os\n",
    "\n",
    "dataset_path = \"C:\\IMaR\\data_folder\\ionosphere.data\"\n",
    "data_filename = os.path.join(dataset_path)\n",
    "#creating the X and y NumPy arrays to store the dataset in.\n",
    "X = np.zeros((351, 34), dtype='float')\n",
    "y = np.zeros((351,), dtype='bool')\n",
    "#Import it and set up a csv reader object\n",
    "with open(data_filename, 'r') as input_file:\n",
    "    reader = csv.reader(input_file)\n",
    "    #loop over the lines in the file,enumerate function gives the line's index as well \n",
    "    for i, row in enumerate(reader):\n",
    "        #turning each into a float, and save that to the dataset\n",
    "        data = [float(datum) for datum in row[:-1]]\n",
    "        X[i] = data\n",
    "        y[i] = row[-1] == 'g'\n",
    "    print(y)\n",
    "    print(X)"
   ]
  },
  {
   "cell_type": "markdown",
   "metadata": {},
   "source": [
    "<h3> Moving towards a standard workflow</h3>"
   ]
  },
  {
   "cell_type": "code",
   "execution_count": 16,
   "metadata": {},
   "outputs": [
    {
     "name": "stdout",
     "output_type": "stream",
     "text": [
      "The accuracy is 86.4%\n"
     ]
    }
   ],
   "source": [
    "#creating training and testing sets. importing the train_test_split function\n",
    "from sklearn.cross_validation import train_test_split \n",
    "X_train, X_test, y_train, y_test = train_test_split(X, y, random_state = 14)\n",
    "#importing the nearest neighbor class and creating an instance for it.\n",
    "from sklearn.neighbors import KNeighborsClassifier \n",
    "estimator = KNeighborsClassifier()\n",
    "# find the nearest neighbor for a new data point\n",
    "estimator.fit(X_train, y_train)\n",
    "#evaluate with a testing set\n",
    "y_predicted = estimator.predict(X_test)\n",
    "accuracy = np.mean(y_test == y_predicted) * 100\n",
    "print(\"The accuracy is {0:.1f}%\".format(accuracy))"
   ]
  },
  {
   "cell_type": "markdown",
   "metadata": {},
   "source": [
    "<h3>Running the algorithm</h3>"
   ]
  },
  {
   "cell_type": "code",
   "execution_count": 17,
   "metadata": {},
   "outputs": [
    {
     "name": "stdout",
     "output_type": "stream",
     "text": [
      "The average accuracy is 82.3%\n"
     ]
    }
   ],
   "source": [
    "from sklearn.cross_validation import cross_val_score\n",
    "#passing the original (full) dataset and classes in to sklearn.cross_validation function\n",
    "scores = cross_val_score(estimator, X, y, scoring='accuracy')\n",
    "#calculate average accuracy\n",
    "average_accuracy = np.mean(scores) * 100 \n",
    "print(\"The average accuracy is {0:.1f}%\".format(average_accuracy))"
   ]
  },
  {
   "cell_type": "markdown",
   "metadata": {},
   "source": [
    "<h3>Setting parameters</h3>"
   ]
  },
  {
   "cell_type": "code",
   "execution_count": 18,
   "metadata": {},
   "outputs": [
    {
     "data": {
      "text/plain": [
       "[<matplotlib.lines.Line2D at 0x9e65b00>]"
      ]
     },
     "execution_count": 18,
     "metadata": {},
     "output_type": "execute_result"
    },
    {
     "data": {
      "image/png": "[encoded data removed]",
      "text/plain": [
       "<matplotlib.figure.Figure at 0x91593c8>"
      ]
     },
     "metadata": {},
     "output_type": "display_data"
    }
   ],
   "source": [
    "avg_scores = []\n",
    "all_scores = []\n",
    "parameter_values = list(range(1, 21))  # Include 20\n",
    "for n_neighbors in parameter_values:\n",
    "    estimator = KNeighborsClassifier(n_neighbors=n_neighbors)\n",
    "    scores = cross_val_score(estimator, X, y, scoring='accuracy')\n",
    "    \n",
    "    avg_scores.append(np.mean(scores))\n",
    "    all_scores.append(scores)\n",
    "    \n",
    "%matplotlib inline\n",
    "from matplotlib import pyplot as plt \n",
    "plt.plot(parameter_values, avg_scores, '-o')"
   ]
  },
  {
   "cell_type": "markdown",
   "metadata": {},
   "source": [
    "<h3>Preprocessing using pipelines</h3>"
   ]
  },
  {
   "cell_type": "code",
   "execution_count": 19,
   "metadata": {},
   "outputs": [
    {
     "name": "stdout",
     "output_type": "stream",
     "text": [
      "The original average accuracy for is 82.3%\n",
      "The 'broken' average accuracy for is 71.5%\n"
     ]
    }
   ],
   "source": [
    "X_broken = np.array(X)\n",
    "X_broken[:,::2] /= 10\n",
    "\n",
    "\n",
    "estimator = KNeighborsClassifier()\n",
    "original_scores = cross_val_score(estimator, X, y, scoring='accuracy')\n",
    "print(\"The original average accuracy for is {0:.1f}%\".format(np.mean(original_scores) * 100))\n",
    "broken_scores = cross_val_score(estimator, X_broken, y, scoring='accuracy')\n",
    "print(\"The 'broken' average accuracy for is {0:.1f}%\".format(np.mean(broken_scores) * 100))"
   ]
  },
  {
   "cell_type": "markdown",
   "metadata": {},
   "source": [
    "<h3> Standard preprocessing </h3>"
   ]
  },
  {
   "cell_type": "code",
   "execution_count": 20,
   "metadata": {},
   "outputs": [
    {
     "name": "stdout",
     "output_type": "stream",
     "text": [
      "The average accuracy for is 82.3%\n"
     ]
    }
   ],
   "source": [
    "#This class takes each feature and scales it to the range 0 to 1.\n",
    "#The minimum value is replaced with 0, the maximum with 1, and the other values somewhere in between.\n",
    "from sklearn.preprocessing import MinMaxScaler\n",
    "#While MinMaxScalerdoesn't, some transformers need to be trained first in the same way that the classifiers do.\n",
    "X_transformed = MinMaxScaler().fit_transform(X)\n",
    "\n",
    "#1. Ensure the sum of the values for each sample equals to 1, using sklearn.preprocessing.Normalizer\n",
    "#2. Force each feature to have a zero mean and a variance of 1, using sklearn.preprocessing.StandardScaler, \n",
    "#   which is a commonly used starting point for normalization\n",
    "#3. Turn numerical features into binary features, where any value above a threshold is 1 and any below is 0, \n",
    "#   using sklearn.preprocessing.Binarizer\n",
    "\n",
    "X_transformed = MinMaxScaler().fit_transform(X_broken)\n",
    "estimator = KNeighborsClassifier()\n",
    "transformed_scores = cross_val_score(estimator, X_transformed, y, scoring='accuracy')\n",
    "print(\"The average accuracy for is {0:.1f}%\".format(np.mean(transformed_scores) * 100))\n"
   ]
  },
  {
   "cell_type": "markdown",
   "metadata": {},
   "source": [
    "<h3> Pipelines </h3>\n",
    "<p> Pipelines are a construct that addresses these problems (and others, which we will \n",
    "see in the next chapter). Pipelines store the steps in your data mining workflow. They \n",
    "can take your raw data in, perform all the necessary transformations, and then create \n",
    "a prediction.</p>"
   ]
  },
  {
   "cell_type": "code",
   "execution_count": 21,
   "metadata": {},
   "outputs": [
    {
     "name": "stdout",
     "output_type": "stream",
     "text": [
      "The pipeline scored an average accuracy for is 82.3%\n"
     ]
    }
   ],
   "source": [
    "from sklearn.pipeline import Pipeline\n",
    "#Pipelines take a list of steps as input, representing the chain of the data mining application. \n",
    "#The last step needs to be an Estimator, while all previous steps are Transformers. The input dataset is altered by each \n",
    "#Transformer, with the output of one step being the input of the next step.\n",
    "#Each step is then represented by a tuple ('name', step).\n",
    "scaling_pipeline = Pipeline([('scale', MinMaxScaler()),\n",
    "                             ('predict', KNeighborsClassifier())])\n",
    "#Running the pipeline, using the cross validation code from before\n",
    "scores = cross_val_score(scaling_pipeline, X_broken, y, \n",
    "scoring='accuracy')\n",
    "print(\"The pipeline scored an average accuracy for is {0:.1f}%\".\n",
    "format(np.mean(transformed_scores) * 100))"
   ]
  }
 ],
 "metadata": {
  "kernelspec": {
   "display_name": "Python 3",
   "language": "python",
   "name": "python3"
  },
  "language_info": {
   "codemirror_mode": {
    "name": "ipython",
    "version": 3
   },
   "file_extension": ".py",
   "mimetype": "text/x-python",
   "name": "python",
   "nbconvert_exporter": "python",
   "pygments_lexer": "ipython3",
   "version": "3.6.4"
  }
 },
 "nbformat": 4,
 "nbformat_minor": 2
}
