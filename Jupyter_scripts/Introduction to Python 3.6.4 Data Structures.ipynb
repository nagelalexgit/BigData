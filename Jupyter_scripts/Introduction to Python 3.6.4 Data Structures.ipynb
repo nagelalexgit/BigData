{
 "cells": [
  {
   "cell_type": "markdown",
   "metadata": {},
   "source": [
    "<h2> Introduction to Python 3.6.4 Data Structures</h2>"
   ]
  },
  {
   "cell_type": "markdown",
   "metadata": {},
   "source": [
    "<h4> 1.1 Basics on Lists </h4>\n",
    "<p> The list data type has some more methods. Here are all of the methods of list objects:</p>"
   ]
  },
  {
   "cell_type": "code",
   "execution_count": 81,
   "metadata": {},
   "outputs": [
    {
     "name": "stdout",
     "output_type": "stream",
     "text": [
      "['orange', 'apple', 'pear', 'kiwi', 'apple']\n",
      "['orange', 'apple', 'pear', 'melon', 'kiwi', 'apple']\n",
      "['orange', 'apple', 'pear', 'melon', 'kiwi', 'apple', 'last']\n",
      "['orange', 'apple', 'pear', 'melon', 'apple', 'last']\n",
      "['orange', 'apple', 'pear', 'melon', 'apple', 'last', 'orange', 'apple', 'pear', 'melon', 'apple', 'last']\n",
      "['orange', 'apple', 'pear', 'melon', 'apple', 'last', 'orange', 'apple', 'pear', 'melon', 'apple']\n",
      "['apple', 'apple', 'apple', 'apple', 'last', 'melon', 'melon', 'orange', 'orange', 'pear', 'pear']\n",
      "4\n",
      "['pear', 'pear', 'orange', 'orange', 'melon', 'melon', 'last', 'apple', 'apple', 'apple', 'apple']\n",
      "['pear', 'pear', 'orange', 'orange', 'melon', 'melon', 'last', 'apple', 'apple', 'apple']\n"
     ]
    }
   ],
   "source": [
    "fruits = ['orange', 'apple', 'pear', 'kiwi', 'apple']\n",
    "print(fruits)\n",
    "fruits.insert(3,'melon') # Insert an item at a given position.\n",
    "print(fruits)\n",
    "fruits.append('last') # Add an item to the end of the list.\n",
    "print(fruits)\n",
    "fruits.pop(4) # Remove the item at the given position in the list, and return it.\n",
    "print(fruits)\n",
    "fruits.extend(fruits) # Extend the list by appending all the items from the iterable.\n",
    "print(fruits)\n",
    "fruits.pop() # Removes and returns the last item in the list.\n",
    "print(fruits)\n",
    "fruits.sort() # Sort the items of the list in place.\n",
    "print(fruits)\n",
    "fruits.reverse() # Reverse the elements of the list in place.\n",
    "s = fruits.count('apple') # Return the number of times x appears in the list.\n",
    "print(s)\n",
    "fruits.copy() # Return a shallow copy of the list.\n",
    "print(fruits)\n",
    "fruits.remove('apple') # Remove the first item from the list whose value is apple.\n",
    "print(fruits)"
   ]
  },
  {
   "cell_type": "markdown",
   "metadata": {},
   "source": [
    "<h4> 1.2 Using Lists as Queues </h4>\n",
    "<p> It is also possible to use a list as a queue, where the first element added is the first element retrieved (“first-in, first-out”); however, lists are not efficient for this purpose. While appends and pops from the end of list are fast, doing inserts or pops from the beginning of a list is slow (because all of the other elements have to be shifted by one).</p>"
   ]
  },
  {
   "cell_type": "code",
   "execution_count": 82,
   "metadata": {},
   "outputs": [
    {
     "name": "stdout",
     "output_type": "stream",
     "text": [
      "deque(['Michael', 'Terry', 'Graham'])\n"
     ]
    },
    {
     "data": {
      "text/plain": [
       "deque(['Michael', 'Terry', 'Graham'])"
      ]
     },
     "execution_count": 82,
     "metadata": {},
     "output_type": "execute_result"
    }
   ],
   "source": [
    "from collections import deque # Importing deque from collections \n",
    "queue = deque([\"Eric\", \"John\", \"Michael\"])\n",
    "queue.append(\"Terry\")           # Terry arrives\n",
    "queue.append(\"Graham\")          # Graham arrives\n",
    "queue.popleft()                 # The first to arrive now leaves\n",
    "queue.popleft()                 # The second to arrive now leaves\n",
    "print(queue)                    # Remaining queue in order of arrival\n",
    "deque(['Michael', 'Terry', 'Graham'])"
   ]
  },
  {
   "cell_type": "markdown",
   "metadata": {},
   "source": [
    "<h4> 1.3 List Comprehensions </h4>\n",
    "<p> List comprehensions provide a concise way to create lists. Common applications are to make new lists where each element is the result of some operations applied to each member of another sequence or iterable, or to create a subsequence of those elements that satisfy a certain condition.</p>"
   ]
  },
  {
   "cell_type": "code",
   "execution_count": 83,
   "metadata": {},
   "outputs": [
    {
     "name": "stdout",
     "output_type": "stream",
     "text": [
      "[0, 1, 4, 9, 16, 25, 36, 49, 64, 81]\n",
      "[0, 1, 4, 9, 16, 25, 36, 49, 64, 81]\n",
      "[0, 1, 4, 9, 16, 25, 36, 49, 64, 81]\n"
     ]
    }
   ],
   "source": [
    "squares = []\n",
    "for x in range(10): # For each element in range from 0 to 10\n",
    "    squares.append(x**2) # Insert to the end of the list a square of each element\n",
    "print(squares)\n",
    "# or\n",
    "squares = list(map(lambda x: x**2, range(10)))\n",
    "print(squares)\n",
    "# or, equivalently\n",
    "squares = [x**2 for x in range(10)]\n",
    "print(squares)"
   ]
  },
  {
   "cell_type": "code",
   "execution_count": 84,
   "metadata": {},
   "outputs": [
    {
     "name": "stdout",
     "output_type": "stream",
     "text": [
      "[(4, 1), (4, 2), (2, 1), (2, 4), (3, 1), (3, 2), (3, 4)]\n"
     ]
    }
   ],
   "source": [
    "combos = []\n",
    "list1 = [4,2,3]\n",
    "list2 = [1,2,4]\n",
    "for x in list1:\n",
    "    for y in list2:\n",
    "        if x != y: # checking each element of list1 not equals to each element of list2\n",
    "            combos.append((x, y))# Adding to a combos list compared items\n",
    "print(combos)"
   ]
  },
  {
   "cell_type": "code",
   "execution_count": 85,
   "metadata": {},
   "outputs": [
    {
     "name": "stdout",
     "output_type": "stream",
     "text": [
      "[4096, 64, 0, 64, 4096, 2985984, 729, 15625]\n",
      "[0, 2, 4, 3]\n"
     ]
    },
    {
     "data": {
      "text/plain": [
       "['3.1',\n",
       " '3.14',\n",
       " '3.142',\n",
       " '3.1416',\n",
       " '3.14159',\n",
       " '3.141593',\n",
       " '3.1415927',\n",
       " '3.14159265']"
      ]
     },
     "execution_count": 85,
     "metadata": {},
     "output_type": "execute_result"
    }
   ],
   "source": [
    "numbers = [-4, -2, 0, 2, 4,-12,3,-5]\n",
    "powerednumbers = [pow(x,6) for x in numbers] # Creates a new list where each element from numbers powered by 6\n",
    "print(powerednumbers)\n",
    "\n",
    "filterednumbers = [x for x in numbers if x >= 0] # filter the list to exclude negative numbers\n",
    "print(filterednumbers)\n",
    "\n",
    "# List comprehensions can contain complex expressions and nested functions:\n",
    "from math import pi\n",
    "[str(round(pi, i)) for i in range(1, 9)]"
   ]
  },
  {
   "cell_type": "markdown",
   "metadata": {},
   "source": [
    "<h4> 1.4 Nested List Comprehensions </h4>\n",
    "<p> The initial expression in a list comprehension can be any arbitrary expression, including another list comprehension.</p>"
   ]
  },
  {
   "cell_type": "code",
   "execution_count": 86,
   "metadata": {},
   "outputs": [
    {
     "name": "stdout",
     "output_type": "stream",
     "text": [
      "[[1, 2, 3, 4], [5, 6, 7, 8], [9, 10, 11, 12]]\n",
      "[[1, 5, 9], [2, 6, 10], [3, 7, 11], [4, 8, 12]]\n",
      "[[1, 5, 9], [2, 6, 10], [3, 7, 11], [4, 8, 12]]\n",
      "[(1, 5, 9), (2, 6, 10), (3, 7, 11), (4, 8, 12)]\n"
     ]
    }
   ],
   "source": [
    "matrix = [[1, 2, 3, 4],[5, 6, 7, 8],[9, 10, 11, 12],] # matrix 3x4\n",
    "transposed = []\n",
    "transposed1 = []\n",
    "print(matrix)\n",
    "matrixinvert = [[row[i] for row in matrix] for i in range(4)]# Inverting matrix, transpose rows and columns\n",
    "print(matrixinvert)\n",
    "#same as\n",
    "for i in range(4):\n",
    "    transposed_row = []\n",
    "    for row in matrix:\n",
    "        transposed_row.append(row[i])\n",
    "    transposed.append(transposed_row)\n",
    "print(transposed)\n",
    "#same as\n",
    "transposed1 = list(zip(*matrix)) # Built-in functions to complex flow statements are prefered.\n",
    "print(transposed1)"
   ]
  },
  {
   "cell_type": "markdown",
   "metadata": {},
   "source": [
    "<h4>1.5 The del statement</h4>\n",
    "<p> A way to remove an item from a list given its index instead of its value</p>"
   ]
  },
  {
   "cell_type": "code",
   "execution_count": 87,
   "metadata": {},
   "outputs": [
    {
     "name": "stdout",
     "output_type": "stream",
     "text": [
      "[6, 66.25, 333.23, 33, 1234.54]\n",
      "[-100, 33, 1234.54]\n",
      "[]\n"
     ]
    }
   ],
   "source": [
    "a = [-100, 6, 66.25, 333.23, 33, 1234.54]\n",
    "b = [-100, 6, 66.25, 333.23, 33, 1234.54]\n",
    "c = [-100, 6, 66.25, 333.23, 33, 1234.54]\n",
    "del a[0] # remove an item from a list given its index\n",
    "print(a)\n",
    "del b[1:4] #remove items from a list given its index range\n",
    "print(b)\n",
    "del c[:] # remove entire list\n",
    "print(c)"
   ]
  },
  {
   "cell_type": "markdown",
   "metadata": {},
   "source": [
    "<h4> 1.6 Sets</h4>\n",
    "<p> A set is an unordered collection with no duplicate elements.</p>"
   ]
  },
  {
   "cell_type": "code",
   "execution_count": 88,
   "metadata": {},
   "outputs": [
    {
     "name": "stdout",
     "output_type": "stream",
     "text": [
      "{'orange', 'apple', 'banana', 'pear'}\n",
      "True\n",
      "False\n",
      "{'m', 's', 'y', 'p', 'h', 'j', 'o', 'a', 'v', 'r', 'b', 'q', 'd'}\n",
      "{'e', 'y', 'c', 'j', 'w', 'b', 'q'}\n",
      "{'m', 'p', 'h', 'o', 'a', 'v', 'r', 's', 'd'}\n",
      "{'e', 'm', 's', 'y', 'p', 'h', 'j', 'o', 'a', 'c', 'w', 'v', 'r', 'b', 'q', 'd'}\n",
      "{'b', 'q', 'j', 'y'}\n",
      "{'m', 'c', 'h', 'o', 'r', 's', 'e', 'p', 'a', 'w', 'v', 'd'}\n",
      "{'m', 'p', 'h', 'o', 'a', 'v', 'r', 's', 'd'}\n"
     ]
    }
   ],
   "source": [
    "basket = {'apple', 'apple', 'apple','orange', 'apple', 'pear', 'orange', 'banana'}\n",
    "print(basket)# shows that duplicates have been removed\n",
    "print('apple' in basket) # fast membership testing\n",
    "print('Alex' in basket)\n",
    "\n",
    "setA = set('abrvsddqsbhypomj')\n",
    "setB = set('qwqweqccbjy')\n",
    "print(setA) # Only unique letters\n",
    "print(setB) # Only unique letters\n",
    "print(setA-setB) # Shows letters in setA but not in setB\n",
    "print(setA|setB) # Shows letters in setA or setB or both\n",
    "print(setA&setB) # Shows letters in both setA and setB\n",
    "print(setA^setB) # Shows letters in setA or setB but not both\n",
    "\n",
    "# Set comprehensions are also supported:\n",
    "result = {x for x in setA if x not in setB}\n",
    "print(result)"
   ]
  },
  {
   "cell_type": "markdown",
   "metadata": {},
   "source": [
    "<h4> Looping Techniques</h4>"
   ]
  },
  {
   "cell_type": "code",
   "execution_count": 89,
   "metadata": {},
   "outputs": [
    {
     "name": "stdout",
     "output_type": "stream",
     "text": [
      "Fruits List ['pear', 'pear', 'orange', 'orange', 'melon', 'melon', 'last', 'apple', 'apple', 'apple']\n",
      "List of Numbers [0, 1, 4, 9, 16, 25, 36, 49, 64, 81]\n",
      "List of Letters {'m', 'c', 'h', 'o', 'r', 's', 'e', 'p', 'a', 'w', 'v', 'd'}\n"
     ]
    }
   ],
   "source": [
    "# When looping through dictionaries, the key and corresponding value can be retrieved \n",
    "# at the same time using the items() method.\n",
    "ListOfThings = {'Fruits List':fruits , 'List of Numbers': squares, 'List of Letters': setA^setB}# If error run entire script\n",
    "for d, s in ListsOfThings.items():# d is derectory, s is sub directory\n",
    "    print(d, s)"
   ]
  },
  {
   "cell_type": "code",
   "execution_count": 90,
   "metadata": {},
   "outputs": [
    {
     "name": "stdout",
     "output_type": "stream",
     "text": [
      "0 Fruits List\n",
      "1 List of Numbers\n",
      "2 List of Letters\n"
     ]
    }
   ],
   "source": [
    "#When looping through a sequence, the position index and corresponding value can be retrieved \n",
    "# at the same time using the enumerate() function.\n",
    "for i, v in enumerate(ListOfThings):\n",
    "    print(i, v)"
   ]
  },
  {
   "cell_type": "code",
   "execution_count": 91,
   "metadata": {},
   "outputs": [
    {
     "name": "stdout",
     "output_type": "stream",
     "text": [
      "3*3 = 9\n",
      "3*3*25 = 225\n",
      "PI = 3.14\n",
      "PI*25 = 78.5\n",
      "200/300 = 0.666\n",
      "200/300*25 = 16.650000000000002\n"
     ]
    }
   ],
   "source": [
    "# To loop over two or more sequences at the same time, the entries can be paired with the zip() function.\n",
    "questions = ['3*3', 'PI', '200/300']\n",
    "answers = [9, 3.14, 0.666]\n",
    "addString = '*25'\n",
    "multiplier = 25\n",
    "for q, a in zip(questions, answers):\n",
    "    print('{0} = {1}'.format(q, a)) # Printing coresponding questions and answers\n",
    "    newQuestion = q + addString # Modify each question\n",
    "    newAnswer = a * multiplier # Calculating a new answer for each question\n",
    "    print('{0} = {1}'.format(newQuestion, newAnswer)) # Printing results with new values"
   ]
  },
  {
   "cell_type": "code",
   "execution_count": 92,
   "metadata": {},
   "outputs": [
    {
     "name": "stdout",
     "output_type": "stream",
     "text": [
      "91\n",
      "81\n",
      "71\n",
      "61\n",
      "51\n",
      "41\n",
      "31\n",
      "21\n",
      "11\n",
      "1\n"
     ]
    }
   ],
   "source": [
    "# To loop over a sequence in reverse, first specify the sequence in a forward direction and then call the reversed() function.\n",
    "interval = 10\n",
    "for i in reversed(range(1, 100, interval)): # every second element in range from 100 to 1\n",
    "    print(i)"
   ]
  },
  {
   "cell_type": "code",
   "execution_count": 93,
   "metadata": {},
   "outputs": [
    {
     "name": "stdout",
     "output_type": "stream",
     "text": [
      "-54\n",
      "-12\n",
      "2\n",
      "9\n",
      "12\n",
      "34\n",
      "65\n",
      "67\n",
      "455\n",
      "878\n"
     ]
    }
   ],
   "source": [
    "# To loop over a sequence in sorted order, \n",
    "# use the sorted() function which returns a new sorted list while leaving the source unaltered.\n",
    "nums = [34,65,12,455,67,878,9,-54,2,-12]\n",
    "for element in sorted(set(nums)):\n",
    "    print(element)"
   ]
  },
  {
   "cell_type": "code",
   "execution_count": 94,
   "metadata": {},
   "outputs": [
    {
     "name": "stdout",
     "output_type": "stream",
     "text": [
      "[56.2, 0, 55.3, 52.5, 47.8]\n",
      "[56, 0, 55, 52, 47]\n"
     ]
    }
   ],
   "source": [
    "# It is sometimes tempting to change a list while you are looping over it; however, \n",
    "# it is often simpler and safer to create a new list instead.\n",
    "import math\n",
    "raw_data = [56.2, float('NaN'), 0, 55.3, 52.5, float('NaN'), 47.8]\n",
    "filtered_data = []\n",
    "truncated_data = []\n",
    "for value in raw_data: # for each value in raw_data\n",
    "    if not math.isnan(value):# Checking if the value in not a number\n",
    "        filtered_data.append(value)# adding to a list only true(numbers) values\n",
    "        truncated_data.append(math.trunc(value))# Trunc the value to an Integral and adding to a list\n",
    "\n",
    "print(filtered_data)\n",
    "print(truncated_data)"
   ]
  }
 ],
 "metadata": {
  "kernelspec": {
   "display_name": "Python 3",
   "language": "python",
   "name": "python3"
  },
  "language_info": {
   "codemirror_mode": {
    "name": "ipython",
    "version": 3
   },
   "file_extension": ".py",
   "mimetype": "text/x-python",
   "name": "python",
   "nbconvert_exporter": "python",
   "pygments_lexer": "ipython3",
   "version": "3.6.4"
  }
 },
 "nbformat": 4,
 "nbformat_minor": 2
}
